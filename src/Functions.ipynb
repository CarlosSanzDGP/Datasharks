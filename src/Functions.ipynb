{
 "cells": [
  {
   "cell_type": "code",
   "execution_count": null,
   "metadata": {},
   "outputs": [],
   "source": [
    "# Functions\n",
    "\n",
    "def activity(x):\n",
    "        if x in [\"Bathing\",\"Swimming \", \"Treading water\", \"Floating\",\"Standing\",\"Freedom Swimming\", \"Freedom swimming\", \"Skin diving\"]:\n",
    "            return \"Swimming or playing in the water\"\n",
    "        elif x in [\"Surfing\", \"Body surfing\", \"Paddle boarding\", \"Windsurfing\",\"Kite Surfing\", \"Surfing (sitting on his board)\",\"Canoeing\", \"Rowing\", \"Body boarding\", \"Boogie Boarding\", \"Boogie boarding\", \"Surf skiing\", \"Surf-skiing\", \"Sitting on surfboard\", \"Body-boarding\"]:\n",
    "            return \"Surf, boards,kayaks and similar \"\n",
    "        elif x in [\"Spearfishing\", \"Fishing on a boat\", \"Boating\", \"Sailing\", \"Fishing boat\", \"Kayak Fishing\", \"Kayaking / Fishing\", \"Fishing for mackerel\", \"Shark fishing\",\"Fishing \", \"Surf fishing\", \"Fishing for sharks\"]:\n",
    "            return \"Fishing\"\n",
    "        elif x in [\"Scuba diving\", \"Free diving\", \"Free diving\", \"Freediving\", \"Diving for abalone\", \"Pearl diving\", \"Diving\", \"Sponge diving\", \"Scuba Diving\", \"Spearfishing on Scuba\", \"Diving for trochus\", \"Free diving for abalone\"]:\n",
    "            return \"Diving\"\n",
    "        elif x in [ \"Walking\", \"Dangling feet in the water\"]:\n",
    "            return \"Walking close to the coast\" \n",
    "        else:\n",
    "            return \"Other\"\n",
    "dfclean[\"activity\"] = dfclean.activity.apply(activity)"
   ]
  }
 ],
 "metadata": {
  "kernelspec": {
   "display_name": "Python 3",
   "language": "python",
   "name": "python3"
  },
  "language_info": {
   "codemirror_mode": {
    "name": "ipython",
    "version": 3
   },
   "file_extension": ".py",
   "mimetype": "text/x-python",
   "name": "python",
   "nbconvert_exporter": "python",
   "pygments_lexer": "ipython3",
   "version": "3.6.9"
  }
 },
 "nbformat": 4,
 "nbformat_minor": 4
}
